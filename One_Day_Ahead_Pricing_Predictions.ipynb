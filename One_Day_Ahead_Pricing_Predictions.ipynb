{
 "cells": [
  {
   "cell_type": "code",
   "execution_count": 1,
   "metadata": {},
   "outputs": [],
   "source": [
    "# required packages\n",
    "import pandas as pd"
   ]
  },
  {
   "cell_type": "code",
   "execution_count": 3,
   "metadata": {},
   "outputs": [],
   "source": [
    "# Load Data\n",
    "prices_filename = 'Data/prices.csv'                             \n",
    "prices = pd.read_csv(prices_filename)"
   ]
  },
  {
   "cell_type": "code",
   "execution_count": 6,
   "metadata": {},
   "outputs": [],
   "source": [
    "# pick one ticker for now\n",
    "apple = prices[prices['symbol'] =='AAPL']"
   ]
  },
  {
   "cell_type": "code",
   "execution_count": 7,
   "metadata": {},
   "outputs": [
    {
     "data": {
      "text/html": [
       "<div>\n",
       "<style scoped>\n",
       "    .dataframe tbody tr th:only-of-type {\n",
       "        vertical-align: middle;\n",
       "    }\n",
       "\n",
       "    .dataframe tbody tr th {\n",
       "        vertical-align: top;\n",
       "    }\n",
       "\n",
       "    .dataframe thead th {\n",
       "        text-align: right;\n",
       "    }\n",
       "</style>\n",
       "<table border=\"1\" class=\"dataframe\">\n",
       "  <thead>\n",
       "    <tr style=\"text-align: right;\">\n",
       "      <th></th>\n",
       "      <th>open</th>\n",
       "      <th>close</th>\n",
       "      <th>low</th>\n",
       "      <th>high</th>\n",
       "      <th>volume</th>\n",
       "    </tr>\n",
       "  </thead>\n",
       "  <tbody>\n",
       "    <tr>\n",
       "      <th>count</th>\n",
       "      <td>1762.000000</td>\n",
       "      <td>1762.000000</td>\n",
       "      <td>1762.000000</td>\n",
       "      <td>1762.000000</td>\n",
       "      <td>1.762000e+03</td>\n",
       "    </tr>\n",
       "    <tr>\n",
       "      <th>mean</th>\n",
       "      <td>313.076311</td>\n",
       "      <td>312.927066</td>\n",
       "      <td>309.828241</td>\n",
       "      <td>315.911288</td>\n",
       "      <td>9.422578e+07</td>\n",
       "    </tr>\n",
       "    <tr>\n",
       "      <th>std</th>\n",
       "      <td>185.299468</td>\n",
       "      <td>185.147104</td>\n",
       "      <td>183.383917</td>\n",
       "      <td>186.898177</td>\n",
       "      <td>6.020519e+07</td>\n",
       "    </tr>\n",
       "    <tr>\n",
       "      <th>min</th>\n",
       "      <td>90.000000</td>\n",
       "      <td>90.279999</td>\n",
       "      <td>89.470001</td>\n",
       "      <td>90.699997</td>\n",
       "      <td>1.147590e+07</td>\n",
       "    </tr>\n",
       "    <tr>\n",
       "      <th>25%</th>\n",
       "      <td>115.222498</td>\n",
       "      <td>115.190002</td>\n",
       "      <td>114.002500</td>\n",
       "      <td>116.362499</td>\n",
       "      <td>4.917478e+07</td>\n",
       "    </tr>\n",
       "    <tr>\n",
       "      <th>50%</th>\n",
       "      <td>318.230007</td>\n",
       "      <td>318.240008</td>\n",
       "      <td>316.545002</td>\n",
       "      <td>320.600008</td>\n",
       "      <td>8.050385e+07</td>\n",
       "    </tr>\n",
       "    <tr>\n",
       "      <th>75%</th>\n",
       "      <td>470.880017</td>\n",
       "      <td>472.592512</td>\n",
       "      <td>467.972513</td>\n",
       "      <td>478.110008</td>\n",
       "      <td>1.210816e+08</td>\n",
       "    </tr>\n",
       "    <tr>\n",
       "      <th>max</th>\n",
       "      <td>702.409988</td>\n",
       "      <td>702.100021</td>\n",
       "      <td>699.569977</td>\n",
       "      <td>705.070023</td>\n",
       "      <td>4.702495e+08</td>\n",
       "    </tr>\n",
       "  </tbody>\n",
       "</table>\n",
       "</div>"
      ],
      "text/plain": [
       "              open        close          low         high        volume\n",
       "count  1762.000000  1762.000000  1762.000000  1762.000000  1.762000e+03\n",
       "mean    313.076311   312.927066   309.828241   315.911288  9.422578e+07\n",
       "std     185.299468   185.147104   183.383917   186.898177  6.020519e+07\n",
       "min      90.000000    90.279999    89.470001    90.699997  1.147590e+07\n",
       "25%     115.222498   115.190002   114.002500   116.362499  4.917478e+07\n",
       "50%     318.230007   318.240008   316.545002   320.600008  8.050385e+07\n",
       "75%     470.880017   472.592512   467.972513   478.110008  1.210816e+08\n",
       "max     702.409988   702.100021   699.569977   705.070023  4.702495e+08"
      ]
     },
     "execution_count": 7,
     "metadata": {},
     "output_type": "execute_result"
    }
   ],
   "source": [
    "# describe the numeric data\n",
    "apple.describe()"
   ]
  },
  {
   "cell_type": "code",
   "execution_count": 8,
   "metadata": {},
   "outputs": [
    {
     "data": {
      "text/plain": [
       "date       object\n",
       "symbol     object\n",
       "open      float64\n",
       "close     float64\n",
       "low       float64\n",
       "high      float64\n",
       "volume    float64\n",
       "dtype: object"
      ]
     },
     "execution_count": 8,
     "metadata": {},
     "output_type": "execute_result"
    }
   ],
   "source": [
    "# check data types \n",
    "apple.dtypes\n",
    "# change data to date type"
   ]
  },
  {
   "cell_type": "code",
   "execution_count": 11,
   "metadata": {},
   "outputs": [
    {
     "data": {
      "text/plain": [
       "date      0\n",
       "symbol    0\n",
       "open      0\n",
       "close     0\n",
       "low       0\n",
       "high      0\n",
       "volume    0\n",
       "dtype: int64"
      ]
     },
     "execution_count": 11,
     "metadata": {},
     "output_type": "execute_result"
    }
   ],
   "source": [
    "# no nulls in this data set\n",
    "apple.isnull().sum()"
   ]
  },
  {
   "cell_type": "code",
   "execution_count": 12,
   "metadata": {},
   "outputs": [
    {
     "name": "stderr",
     "output_type": "stream",
     "text": [
      "C:\\Users\\GeorgiannaJames\\AppData\\Local\\Temp\\ipykernel_3816\\1988685929.py:1: SettingWithCopyWarning: \n",
      "A value is trying to be set on a copy of a slice from a DataFrame.\n",
      "Try using .loc[row_indexer,col_indexer] = value instead\n",
      "\n",
      "See the caveats in the documentation: https://pandas.pydata.org/pandas-docs/stable/user_guide/indexing.html#returning-a-view-versus-a-copy\n",
      "  apple['date'] = pd.to_datetime(apple['date'])\n"
     ]
    }
   ],
   "source": [
    "apple['date'] = pd.to_datetime(apple['date'])"
   ]
  },
  {
   "cell_type": "code",
   "execution_count": 14,
   "metadata": {},
   "outputs": [
    {
     "data": {
      "text/html": [
       "<div>\n",
       "<style scoped>\n",
       "    .dataframe tbody tr th:only-of-type {\n",
       "        vertical-align: middle;\n",
       "    }\n",
       "\n",
       "    .dataframe tbody tr th {\n",
       "        vertical-align: top;\n",
       "    }\n",
       "\n",
       "    .dataframe thead th {\n",
       "        text-align: right;\n",
       "    }\n",
       "</style>\n",
       "<table border=\"1\" class=\"dataframe\">\n",
       "  <thead>\n",
       "    <tr style=\"text-align: right;\">\n",
       "      <th></th>\n",
       "      <th>date</th>\n",
       "      <th>symbol</th>\n",
       "      <th>open</th>\n",
       "      <th>close</th>\n",
       "      <th>low</th>\n",
       "      <th>high</th>\n",
       "      <th>volume</th>\n",
       "    </tr>\n",
       "  </thead>\n",
       "  <tbody>\n",
       "    <tr>\n",
       "      <th>254</th>\n",
       "      <td>2010-01-04</td>\n",
       "      <td>AAPL</td>\n",
       "      <td>213.429998</td>\n",
       "      <td>214.009998</td>\n",
       "      <td>212.380001</td>\n",
       "      <td>214.499996</td>\n",
       "      <td>123432400.0</td>\n",
       "    </tr>\n",
       "    <tr>\n",
       "      <th>721</th>\n",
       "      <td>2010-01-05</td>\n",
       "      <td>AAPL</td>\n",
       "      <td>214.599998</td>\n",
       "      <td>214.379993</td>\n",
       "      <td>213.249994</td>\n",
       "      <td>215.589994</td>\n",
       "      <td>150476200.0</td>\n",
       "    </tr>\n",
       "    <tr>\n",
       "      <th>1189</th>\n",
       "      <td>2010-01-06</td>\n",
       "      <td>AAPL</td>\n",
       "      <td>214.379993</td>\n",
       "      <td>210.969995</td>\n",
       "      <td>210.750004</td>\n",
       "      <td>215.230000</td>\n",
       "      <td>138040000.0</td>\n",
       "    </tr>\n",
       "    <tr>\n",
       "      <th>1657</th>\n",
       "      <td>2010-01-07</td>\n",
       "      <td>AAPL</td>\n",
       "      <td>211.750000</td>\n",
       "      <td>210.580000</td>\n",
       "      <td>209.050005</td>\n",
       "      <td>212.000006</td>\n",
       "      <td>119282800.0</td>\n",
       "    </tr>\n",
       "    <tr>\n",
       "      <th>2125</th>\n",
       "      <td>2010-01-08</td>\n",
       "      <td>AAPL</td>\n",
       "      <td>210.299994</td>\n",
       "      <td>211.980005</td>\n",
       "      <td>209.060005</td>\n",
       "      <td>212.000006</td>\n",
       "      <td>111902700.0</td>\n",
       "    </tr>\n",
       "  </tbody>\n",
       "</table>\n",
       "</div>"
      ],
      "text/plain": [
       "           date symbol        open       close         low        high  \\\n",
       "254  2010-01-04   AAPL  213.429998  214.009998  212.380001  214.499996   \n",
       "721  2010-01-05   AAPL  214.599998  214.379993  213.249994  215.589994   \n",
       "1189 2010-01-06   AAPL  214.379993  210.969995  210.750004  215.230000   \n",
       "1657 2010-01-07   AAPL  211.750000  210.580000  209.050005  212.000006   \n",
       "2125 2010-01-08   AAPL  210.299994  211.980005  209.060005  212.000006   \n",
       "\n",
       "           volume  \n",
       "254   123432400.0  \n",
       "721   150476200.0  \n",
       "1189  138040000.0  \n",
       "1657  119282800.0  \n",
       "2125  111902700.0  "
      ]
     },
     "execution_count": 14,
     "metadata": {},
     "output_type": "execute_result"
    }
   ],
   "source": [
    "apple.dtypes\n",
    "apple.head()\n"
   ]
  },
  {
   "cell_type": "code",
   "execution_count": 19,
   "metadata": {},
   "outputs": [
    {
     "name": "stderr",
     "output_type": "stream",
     "text": [
      "C:\\Users\\GeorgiannaJames\\AppData\\Local\\Temp\\ipykernel_3816\\3736901811.py:1: SettingWithCopyWarning: \n",
      "A value is trying to be set on a copy of a slice from a DataFrame.\n",
      "Try using .loc[row_indexer,col_indexer] = value instead\n",
      "\n",
      "See the caveats in the documentation: https://pandas.pydata.org/pandas-docs/stable/user_guide/indexing.html#returning-a-view-versus-a-copy\n",
      "  apple['next_day_close'] = apple.sort_values(by=['date'], ascending=True).close.shift(-1)\n"
     ]
    }
   ],
   "source": [
    "apple['next_day_close'] = apple.sort_values(by=['date'], ascending=True).close.shift(-1)"
   ]
  },
  {
   "cell_type": "code",
   "execution_count": 39,
   "metadata": {},
   "outputs": [
    {
     "data": {
      "text/html": [
       "<div>\n",
       "<style scoped>\n",
       "    .dataframe tbody tr th:only-of-type {\n",
       "        vertical-align: middle;\n",
       "    }\n",
       "\n",
       "    .dataframe tbody tr th {\n",
       "        vertical-align: top;\n",
       "    }\n",
       "\n",
       "    .dataframe thead th {\n",
       "        text-align: right;\n",
       "    }\n",
       "</style>\n",
       "<table border=\"1\" class=\"dataframe\">\n",
       "  <thead>\n",
       "    <tr style=\"text-align: right;\">\n",
       "      <th></th>\n",
       "      <th>open</th>\n",
       "      <th>close</th>\n",
       "      <th>low</th>\n",
       "      <th>high</th>\n",
       "      <th>volume</th>\n",
       "      <th>next_day_close</th>\n",
       "    </tr>\n",
       "  </thead>\n",
       "  <tbody>\n",
       "    <tr>\n",
       "      <th>open</th>\n",
       "      <td>1.000000</td>\n",
       "      <td>0.999649</td>\n",
       "      <td>0.999809</td>\n",
       "      <td>0.999866</td>\n",
       "      <td>0.410195</td>\n",
       "      <td>0.996516</td>\n",
       "    </tr>\n",
       "    <tr>\n",
       "      <th>close</th>\n",
       "      <td>0.999649</td>\n",
       "      <td>1.000000</td>\n",
       "      <td>0.999834</td>\n",
       "      <td>0.999852</td>\n",
       "      <td>0.408169</td>\n",
       "      <td>0.996900</td>\n",
       "    </tr>\n",
       "    <tr>\n",
       "      <th>low</th>\n",
       "      <td>0.999809</td>\n",
       "      <td>0.999834</td>\n",
       "      <td>1.000000</td>\n",
       "      <td>0.999793</td>\n",
       "      <td>0.402363</td>\n",
       "      <td>0.996685</td>\n",
       "    </tr>\n",
       "    <tr>\n",
       "      <th>high</th>\n",
       "      <td>0.999866</td>\n",
       "      <td>0.999852</td>\n",
       "      <td>0.999793</td>\n",
       "      <td>1.000000</td>\n",
       "      <td>0.414028</td>\n",
       "      <td>0.996765</td>\n",
       "    </tr>\n",
       "    <tr>\n",
       "      <th>volume</th>\n",
       "      <td>0.410195</td>\n",
       "      <td>0.408169</td>\n",
       "      <td>0.402363</td>\n",
       "      <td>0.414028</td>\n",
       "      <td>1.000000</td>\n",
       "      <td>0.409008</td>\n",
       "    </tr>\n",
       "    <tr>\n",
       "      <th>next_day_close</th>\n",
       "      <td>0.996516</td>\n",
       "      <td>0.996900</td>\n",
       "      <td>0.996685</td>\n",
       "      <td>0.996765</td>\n",
       "      <td>0.409008</td>\n",
       "      <td>1.000000</td>\n",
       "    </tr>\n",
       "  </tbody>\n",
       "</table>\n",
       "</div>"
      ],
      "text/plain": [
       "                    open     close       low      high    volume  \\\n",
       "open            1.000000  0.999649  0.999809  0.999866  0.410195   \n",
       "close           0.999649  1.000000  0.999834  0.999852  0.408169   \n",
       "low             0.999809  0.999834  1.000000  0.999793  0.402363   \n",
       "high            0.999866  0.999852  0.999793  1.000000  0.414028   \n",
       "volume          0.410195  0.408169  0.402363  0.414028  1.000000   \n",
       "next_day_close  0.996516  0.996900  0.996685  0.996765  0.409008   \n",
       "\n",
       "                next_day_close  \n",
       "open                  0.996516  \n",
       "close                 0.996900  \n",
       "low                   0.996685  \n",
       "high                  0.996765  \n",
       "volume                0.409008  \n",
       "next_day_close        1.000000  "
      ]
     },
     "execution_count": 39,
     "metadata": {},
     "output_type": "execute_result"
    }
   ],
   "source": [
    "apple.corr()"
   ]
  },
  {
   "cell_type": "code",
   "execution_count": 29,
   "metadata": {},
   "outputs": [],
   "source": [
    "apple = apple.dropna()"
   ]
  },
  {
   "cell_type": "code",
   "execution_count": 30,
   "metadata": {},
   "outputs": [],
   "source": [
    "from sklearn.model_selection import train_test_split\n",
    "\n",
    "apple_train, apple_test = train_test_split(apple, test_size=0.2, random_state=0)\n",
    "\n",
    "features = ['open', 'close', 'low', 'high', 'volume']\n",
    "\n",
    "X_train = apple_train[features]\n",
    "y_train = apple_train['next_day_close']\n",
    "\n",
    "X_test = apple_test[features]\n",
    "y_test = apple_test['next_day_close']"
   ]
  },
  {
   "cell_type": "code",
   "execution_count": 34,
   "metadata": {},
   "outputs": [
    {
     "name": "stdout",
     "output_type": "stream",
     "text": [
      "MSE (test): 49.1548\n",
      "RMSE (test): 7.0110\n",
      "MAE (test): 4.2386\n",
      "R-squared is: 0.9986075140494802\n",
      "Adjusted R-squared is: 0.9986025479797566\n"
     ]
    }
   ],
   "source": [
    "from sklearn.linear_model import LinearRegression\n",
    "from sklearn.metrics import mean_squared_error\n",
    "from sklearn.metrics import mean_absolute_error\n",
    "from sklearn.metrics import r2_score\n",
    "\n",
    "# fit the model\n",
    "\n",
    "model = LinearRegression()\n",
    "model.fit(X_train, y_train)\n",
    "\n",
    "# predict\n",
    "\n",
    "y_pred = model.predict(X_test)\n",
    "\n",
    "# Evaluate the Model Performance\n",
    "mse = mean_squared_error(y_test, y_pred)\n",
    "mae = mean_absolute_error(y_test,y_pred)\n",
    "r2 = r2_score(y_test, y_pred)\n",
    "n = len(y_train)\n",
    "p = len(features)\n",
    "adj_r2 = 1-(1-r2)*(n-1)/(n-p-1)\n",
    "\n",
    "print(f'MSE (test): {mse:.4f}')\n",
    "print(f'RMSE (test): {mse**0.5:.4f}')\n",
    "print(f'MAE (test): {mae:.4f}')\n",
    "print(f'R-squared is: {r2}')\n",
    "print(f'Adjusted R-squared is: {adj_r2}')\n"
   ]
  },
  {
   "cell_type": "code",
   "execution_count": 35,
   "metadata": {},
   "outputs": [
    {
     "data": {
      "text/plain": [
       "<function matplotlib.pyplot.show(close=None, block=None)>"
      ]
     },
     "execution_count": 35,
     "metadata": {},
     "output_type": "execute_result"
    },
    {
     "data": {
      "image/png": "[encoded data removed]",
      "text/plain": [
       "<Figure size 1440x1080 with 9 Axes>"
      ]
     },
     "metadata": {
      "needs_background": "light"
     },
     "output_type": "display_data"
    }
   ],
   "source": [
    "#Plot histograms of numerical data\n",
    "%matplotlib inline\n",
    "import matplotlib.pyplot as plt\n",
    "apple.hist(bins = 50, figsize = (20,15))\n",
    "plt.show"
   ]
  },
  {
   "attachments": {},
   "cell_type": "markdown",
   "metadata": {},
   "source": [
    "### Observations\n",
    "* the price data is multi-modal \n",
    "* volumne is unimodel but skewed to the left "
   ]
  },
  {
   "cell_type": "code",
   "execution_count": 38,
   "metadata": {},
   "outputs": [
    {
     "data": {
      "text/plain": [
       "Text(0.5, 1.0, 'Close price over time')"
      ]
     },
     "execution_count": 38,
     "metadata": {},
     "output_type": "execute_result"
    },
    {
     "data": {
      "image/png": "[encoded data removed]",
      "text/plain": [
       "<Figure size 432x288 with 1 Axes>"
      ]
     },
     "metadata": {
      "needs_background": "light"
     },
     "output_type": "display_data"
    }
   ],
   "source": [
    "# lets plot a price against time to see why the prices are mutli-modal\n",
    "plt = apple.plot(kind = 'scatter', x = \"date\", y = \"close\")\n",
    "plt.set_title(\"Close price over time\")"
   ]
  },
  {
   "attachments": {},
   "cell_type": "markdown",
   "metadata": {},
   "source": [
    "### observations\n",
    "* AAPL must have split their stock in 2014"
   ]
  },
  {
   "cell_type": "code",
   "execution_count": 48,
   "metadata": {},
   "outputs": [],
   "source": [
    "# Load Data\n",
    "prices_adj_filename = 'Data/prices-split-adjusted.csv'                             \n",
    "prices_adj = pd.read_csv(prices_adj_filename)"
   ]
  },
  {
   "cell_type": "code",
   "execution_count": 49,
   "metadata": {},
   "outputs": [],
   "source": [
    "apple_prices_adj = prices_adj[prices_adj['symbol'] == 'AAPL']"
   ]
  },
  {
   "cell_type": "code",
   "execution_count": 50,
   "metadata": {},
   "outputs": [
    {
     "data": {
      "text/plain": [
       "Text(0.5, 1.0, 'Close price over time')"
      ]
     },
     "execution_count": 50,
     "metadata": {},
     "output_type": "execute_result"
    },
    {
     "data": {
      "image/png": "[encoded data removed]",
      "text/plain": [
       "<Figure size 432x288 with 1 Axes>"
      ]
     },
     "metadata": {
      "needs_background": "light"
     },
     "output_type": "display_data"
    }
   ],
   "source": [
    "# lets plot a price against time to see why the prices are mutli-modal\n",
    "plt = apple_prices_adj.plot(kind = 'scatter', x = \"date\", y = \"close\")\n",
    "plt.set_title(\"Close price over time\")"
   ]
  },
  {
   "cell_type": "code",
   "execution_count": 51,
   "metadata": {},
   "outputs": [
    {
     "name": "stderr",
     "output_type": "stream",
     "text": [
      "C:\\Users\\GeorgiannaJames\\AppData\\Local\\Temp\\ipykernel_3816\\2622051081.py:1: SettingWithCopyWarning: \n",
      "A value is trying to be set on a copy of a slice from a DataFrame.\n",
      "Try using .loc[row_indexer,col_indexer] = value instead\n",
      "\n",
      "See the caveats in the documentation: https://pandas.pydata.org/pandas-docs/stable/user_guide/indexing.html#returning-a-view-versus-a-copy\n",
      "  apple_prices_adj['date'] = pd.to_datetime(apple_prices_adj['date'])\n",
      "C:\\Users\\GeorgiannaJames\\AppData\\Local\\Temp\\ipykernel_3816\\2622051081.py:2: SettingWithCopyWarning: \n",
      "A value is trying to be set on a copy of a slice from a DataFrame.\n",
      "Try using .loc[row_indexer,col_indexer] = value instead\n",
      "\n",
      "See the caveats in the documentation: https://pandas.pydata.org/pandas-docs/stable/user_guide/indexing.html#returning-a-view-versus-a-copy\n",
      "  apple_prices_adj['next_day_close'] = apple_prices_adj.sort_values(by=['date'], ascending=True).close.shift(-1)\n"
     ]
    }
   ],
   "source": [
    "apple_prices_adj['date'] = pd.to_datetime(apple_prices_adj['date'])\n",
    "apple_prices_adj['next_day_close'] = apple_prices_adj.sort_values(by=['date'], ascending=True).close.shift(-1)"
   ]
  },
  {
   "cell_type": "code",
   "execution_count": 52,
   "metadata": {},
   "outputs": [],
   "source": [
    "apple_prices_adj = apple_prices_adj.dropna()"
   ]
  },
  {
   "cell_type": "code",
   "execution_count": 53,
   "metadata": {},
   "outputs": [
    {
     "data": {
      "text/html": [
       "<div>\n",
       "<style scoped>\n",
       "    .dataframe tbody tr th:only-of-type {\n",
       "        vertical-align: middle;\n",
       "    }\n",
       "\n",
       "    .dataframe tbody tr th {\n",
       "        vertical-align: top;\n",
       "    }\n",
       "\n",
       "    .dataframe thead th {\n",
       "        text-align: right;\n",
       "    }\n",
       "</style>\n",
       "<table border=\"1\" class=\"dataframe\">\n",
       "  <thead>\n",
       "    <tr style=\"text-align: right;\">\n",
       "      <th></th>\n",
       "      <th>date</th>\n",
       "      <th>symbol</th>\n",
       "      <th>open</th>\n",
       "      <th>close</th>\n",
       "      <th>low</th>\n",
       "      <th>high</th>\n",
       "      <th>volume</th>\n",
       "      <th>next_day_close</th>\n",
       "    </tr>\n",
       "  </thead>\n",
       "  <tbody>\n",
       "    <tr>\n",
       "      <th>254</th>\n",
       "      <td>2010-01-04</td>\n",
       "      <td>AAPL</td>\n",
       "      <td>30.490000</td>\n",
       "      <td>30.572857</td>\n",
       "      <td>30.340000</td>\n",
       "      <td>30.642857</td>\n",
       "      <td>123432400.0</td>\n",
       "      <td>30.625713</td>\n",
       "    </tr>\n",
       "    <tr>\n",
       "      <th>721</th>\n",
       "      <td>2010-01-05</td>\n",
       "      <td>AAPL</td>\n",
       "      <td>30.657143</td>\n",
       "      <td>30.625713</td>\n",
       "      <td>30.464285</td>\n",
       "      <td>30.798571</td>\n",
       "      <td>150476200.0</td>\n",
       "      <td>30.138571</td>\n",
       "    </tr>\n",
       "    <tr>\n",
       "      <th>1189</th>\n",
       "      <td>2010-01-06</td>\n",
       "      <td>AAPL</td>\n",
       "      <td>30.625713</td>\n",
       "      <td>30.138571</td>\n",
       "      <td>30.107143</td>\n",
       "      <td>30.747143</td>\n",
       "      <td>138040000.0</td>\n",
       "      <td>30.082857</td>\n",
       "    </tr>\n",
       "    <tr>\n",
       "      <th>1657</th>\n",
       "      <td>2010-01-07</td>\n",
       "      <td>AAPL</td>\n",
       "      <td>30.250000</td>\n",
       "      <td>30.082857</td>\n",
       "      <td>29.864286</td>\n",
       "      <td>30.285715</td>\n",
       "      <td>119282800.0</td>\n",
       "      <td>30.282858</td>\n",
       "    </tr>\n",
       "    <tr>\n",
       "      <th>2125</th>\n",
       "      <td>2010-01-08</td>\n",
       "      <td>AAPL</td>\n",
       "      <td>30.042856</td>\n",
       "      <td>30.282858</td>\n",
       "      <td>29.865715</td>\n",
       "      <td>30.285715</td>\n",
       "      <td>111902700.0</td>\n",
       "      <td>30.015715</td>\n",
       "    </tr>\n",
       "  </tbody>\n",
       "</table>\n",
       "</div>"
      ],
      "text/plain": [
       "           date symbol       open      close        low       high  \\\n",
       "254  2010-01-04   AAPL  30.490000  30.572857  30.340000  30.642857   \n",
       "721  2010-01-05   AAPL  30.657143  30.625713  30.464285  30.798571   \n",
       "1189 2010-01-06   AAPL  30.625713  30.138571  30.107143  30.747143   \n",
       "1657 2010-01-07   AAPL  30.250000  30.082857  29.864286  30.285715   \n",
       "2125 2010-01-08   AAPL  30.042856  30.282858  29.865715  30.285715   \n",
       "\n",
       "           volume  next_day_close  \n",
       "254   123432400.0       30.625713  \n",
       "721   150476200.0       30.138571  \n",
       "1189  138040000.0       30.082857  \n",
       "1657  119282800.0       30.282858  \n",
       "2125  111902700.0       30.015715  "
      ]
     },
     "execution_count": 53,
     "metadata": {},
     "output_type": "execute_result"
    }
   ],
   "source": [
    "apple_prices_adj.head()"
   ]
  },
  {
   "cell_type": "code",
   "execution_count": 54,
   "metadata": {},
   "outputs": [
    {
     "name": "stdout",
     "output_type": "stream",
     "text": [
      "MSE (test): 1.7263\n",
      "RMSE (test): 1.3139\n",
      "MAE (test): 0.9213\n",
      "R-squared is: 0.997833733674032\n",
      "Adjusted R-squared is: 0.9978260080451948\n"
     ]
    }
   ],
   "source": [
    "from sklearn.model_selection import train_test_split\n",
    "\n",
    "apple_train, apple_test = train_test_split(apple_prices_adj, test_size=0.2, random_state=0)\n",
    "\n",
    "features = ['open', 'close', 'low', 'high', 'volume']\n",
    "\n",
    "X_train = apple_train[features]\n",
    "y_train = apple_train['next_day_close']\n",
    "\n",
    "X_test = apple_test[features]\n",
    "y_test = apple_test['next_day_close']\n",
    "\n",
    "from sklearn.linear_model import LinearRegression\n",
    "from sklearn.metrics import mean_squared_error\n",
    "from sklearn.metrics import mean_absolute_error\n",
    "from sklearn.metrics import r2_score\n",
    "\n",
    "# fit the model\n",
    "\n",
    "model = LinearRegression()\n",
    "model.fit(X_train, y_train)\n",
    "\n",
    "# predict\n",
    "\n",
    "y_pred = model.predict(X_test)\n",
    "\n",
    "# Evaluate the Model Performance\n",
    "mse = mean_squared_error(y_test, y_pred)\n",
    "mae = mean_absolute_error(y_test,y_pred)\n",
    "r2 = r2_score(y_test, y_pred)\n",
    "n = len(y_train)\n",
    "p = len(features)\n",
    "adj_r2 = 1-(1-r2)*(n-1)/(n-p-1)\n",
    "\n",
    "print(f'MSE (test): {mse:.4f}')\n",
    "print(f'RMSE (test): {mse**0.5:.4f}')\n",
    "print(f'MAE (test): {mae:.4f}')\n",
    "print(f'R-squared is: {r2}')\n",
    "print(f'Adjusted R-squared is: {adj_r2}')\n"
   ]
  },
  {
   "attachments": {},
   "cell_type": "markdown",
   "metadata": {},
   "source": [
    "### Observations\n",
    "\n",
    "* Using adjusted pricing seems to have improved the model\n",
    "* RMSE went down significantly, adj R2 stayed relatively the same "
   ]
  },
  {
   "attachments": {},
   "cell_type": "markdown",
   "metadata": {},
   "source": [
    "### Additional Feature Engineering \n",
    "* predicting the next day's close price based on today's price movement is generating pretty strong results, however, there might be other variables that explain the next day's close price\n",
    "* A few additional features:\n",
    "  * Season variable \n",
    "  * Month variable\n",
    "  * Day of the week variable \n",
    "  * Normalized trading volume "
   ]
  },
  {
   "cell_type": "code",
   "execution_count": 55,
   "metadata": {},
   "outputs": [
    {
     "name": "stderr",
     "output_type": "stream",
     "text": [
      "C:\\Users\\GeorgiannaJames\\AppData\\Local\\Temp\\ipykernel_3816\\462610546.py:3: SettingWithCopyWarning: \n",
      "A value is trying to be set on a copy of a slice from a DataFrame.\n",
      "Try using .loc[row_indexer,col_indexer] = value instead\n",
      "\n",
      "See the caveats in the documentation: https://pandas.pydata.org/pandas-docs/stable/user_guide/indexing.html#returning-a-view-versus-a-copy\n",
      "  apple_prices_adj['month'] = pd.to_datetime(apple_prices_adj['date']).dt.month\n"
     ]
    }
   ],
   "source": [
    "#feature engineering \n",
    "# month variable\n",
    "apple_prices_adj['month'] = pd.to_datetime(apple_prices_adj['date']).dt.month "
   ]
  },
  {
   "cell_type": "code",
   "execution_count": 58,
   "metadata": {},
   "outputs": [
    {
     "name": "stderr",
     "output_type": "stream",
     "text": [
      "C:\\Users\\GeorgiannaJames\\AppData\\Local\\Temp\\ipykernel_3816\\1242637894.py:5: SettingWithCopyWarning: \n",
      "A value is trying to be set on a copy of a slice from a DataFrame.\n",
      "Try using .loc[row_indexer,col_indexer] = value instead\n",
      "\n",
      "See the caveats in the documentation: https://pandas.pydata.org/pandas-docs/stable/user_guide/indexing.html#returning-a-view-versus-a-copy\n",
      "  apple_prices_adj['season'] = apple_prices_adj['month'].apply(lambda x : season_dict[x])\n"
     ]
    }
   ],
   "source": [
    "# season variable\n",
    "# winter = 1, spring = 2, summer = 3, fall = 4\n",
    "season_dict = {1:1, 2:1, 3:2, 4:2, 5:2, 6:3, 7:3, 8:3, 9:4, 10:4, 11:4, 12:1}\n",
    "\n",
    "apple_prices_adj['season'] = apple_prices_adj['month'].apply(lambda x : season_dict[x])\n"
   ]
  },
  {
   "cell_type": "code",
   "execution_count": 66,
   "metadata": {},
   "outputs": [],
   "source": [
    "# DOW variable\n",
    "\n",
    "apple_prices_adj['dow'] = apple_prices_adj['date'].dt.weekday"
   ]
  },
  {
   "cell_type": "code",
   "execution_count": 68,
   "metadata": {},
   "outputs": [],
   "source": [
    "# normalize volume\n",
    "apple_prices_adj['volume'] = (apple_prices_adj['volume']-apple_prices_adj['volume'].min())/(apple_prices_adj['volume'].max()-apple_prices_adj['volume'].min())\n"
   ]
  },
  {
   "cell_type": "code",
   "execution_count": 69,
   "metadata": {},
   "outputs": [
    {
     "data": {
      "text/html": [
       "<div>\n",
       "<style scoped>\n",
       "    .dataframe tbody tr th:only-of-type {\n",
       "        vertical-align: middle;\n",
       "    }\n",
       "\n",
       "    .dataframe tbody tr th {\n",
       "        vertical-align: top;\n",
       "    }\n",
       "\n",
       "    .dataframe thead th {\n",
       "        text-align: right;\n",
       "    }\n",
       "</style>\n",
       "<table border=\"1\" class=\"dataframe\">\n",
       "  <thead>\n",
       "    <tr style=\"text-align: right;\">\n",
       "      <th></th>\n",
       "      <th>date</th>\n",
       "      <th>symbol</th>\n",
       "      <th>open</th>\n",
       "      <th>close</th>\n",
       "      <th>low</th>\n",
       "      <th>high</th>\n",
       "      <th>volume</th>\n",
       "      <th>next_day_close</th>\n",
       "      <th>month</th>\n",
       "      <th>season</th>\n",
       "      <th>dow</th>\n",
       "    </tr>\n",
       "  </thead>\n",
       "  <tbody>\n",
       "    <tr>\n",
       "      <th>254</th>\n",
       "      <td>2010-01-04</td>\n",
       "      <td>AAPL</td>\n",
       "      <td>30.490000</td>\n",
       "      <td>30.572857</td>\n",
       "      <td>30.340000</td>\n",
       "      <td>30.642857</td>\n",
       "      <td>0.244034</td>\n",
       "      <td>30.625713</td>\n",
       "      <td>1</td>\n",
       "      <td>1</td>\n",
       "      <td>0</td>\n",
       "    </tr>\n",
       "    <tr>\n",
       "      <th>721</th>\n",
       "      <td>2010-01-05</td>\n",
       "      <td>AAPL</td>\n",
       "      <td>30.657143</td>\n",
       "      <td>30.625713</td>\n",
       "      <td>30.464285</td>\n",
       "      <td>30.798571</td>\n",
       "      <td>0.302982</td>\n",
       "      <td>30.138571</td>\n",
       "      <td>1</td>\n",
       "      <td>1</td>\n",
       "      <td>1</td>\n",
       "    </tr>\n",
       "    <tr>\n",
       "      <th>1189</th>\n",
       "      <td>2010-01-06</td>\n",
       "      <td>AAPL</td>\n",
       "      <td>30.625713</td>\n",
       "      <td>30.138571</td>\n",
       "      <td>30.107143</td>\n",
       "      <td>30.747143</td>\n",
       "      <td>0.275875</td>\n",
       "      <td>30.082857</td>\n",
       "      <td>1</td>\n",
       "      <td>1</td>\n",
       "      <td>2</td>\n",
       "    </tr>\n",
       "    <tr>\n",
       "      <th>1657</th>\n",
       "      <td>2010-01-07</td>\n",
       "      <td>AAPL</td>\n",
       "      <td>30.250000</td>\n",
       "      <td>30.082857</td>\n",
       "      <td>29.864286</td>\n",
       "      <td>30.285715</td>\n",
       "      <td>0.234989</td>\n",
       "      <td>30.282858</td>\n",
       "      <td>1</td>\n",
       "      <td>1</td>\n",
       "      <td>3</td>\n",
       "    </tr>\n",
       "    <tr>\n",
       "      <th>2125</th>\n",
       "      <td>2010-01-08</td>\n",
       "      <td>AAPL</td>\n",
       "      <td>30.042856</td>\n",
       "      <td>30.282858</td>\n",
       "      <td>29.865715</td>\n",
       "      <td>30.285715</td>\n",
       "      <td>0.218903</td>\n",
       "      <td>30.015715</td>\n",
       "      <td>1</td>\n",
       "      <td>1</td>\n",
       "      <td>4</td>\n",
       "    </tr>\n",
       "  </tbody>\n",
       "</table>\n",
       "</div>"
      ],
      "text/plain": [
       "           date symbol       open      close        low       high    volume  \\\n",
       "254  2010-01-04   AAPL  30.490000  30.572857  30.340000  30.642857  0.244034   \n",
       "721  2010-01-05   AAPL  30.657143  30.625713  30.464285  30.798571  0.302982   \n",
       "1189 2010-01-06   AAPL  30.625713  30.138571  30.107143  30.747143  0.275875   \n",
       "1657 2010-01-07   AAPL  30.250000  30.082857  29.864286  30.285715  0.234989   \n",
       "2125 2010-01-08   AAPL  30.042856  30.282858  29.865715  30.285715  0.218903   \n",
       "\n",
       "      next_day_close  month  season  dow  \n",
       "254        30.625713      1       1    0  \n",
       "721        30.138571      1       1    1  \n",
       "1189       30.082857      1       1    2  \n",
       "1657       30.282858      1       1    3  \n",
       "2125       30.015715      1       1    4  "
      ]
     },
     "execution_count": 69,
     "metadata": {},
     "output_type": "execute_result"
    }
   ],
   "source": [
    "apple_prices_adj.head(\n",
    ")"
   ]
  },
  {
   "cell_type": "code",
   "execution_count": 70,
   "metadata": {},
   "outputs": [
    {
     "name": "stdout",
     "output_type": "stream",
     "text": [
      "MSE (test): 1.7187\n",
      "RMSE (test): 1.3110\n",
      "MAE (test): 0.9164\n",
      "R-squared is: 0.9978432995935045\n",
      "Adjusted R-squared is: 0.9978309667820306\n"
     ]
    }
   ],
   "source": [
    "from sklearn.model_selection import train_test_split\n",
    "\n",
    "apple_train, apple_test = train_test_split(apple_prices_adj, test_size=0.2, random_state=0)\n",
    "\n",
    "features = ['open', 'close', 'low', 'high', 'volume', 'month', 'season', 'dow']\n",
    "\n",
    "X_train = apple_train[features]\n",
    "y_train = apple_train['next_day_close']\n",
    "\n",
    "X_test = apple_test[features]\n",
    "y_test = apple_test['next_day_close']\n",
    "\n",
    "from sklearn.linear_model import LinearRegression\n",
    "from sklearn.metrics import mean_squared_error\n",
    "from sklearn.metrics import mean_absolute_error\n",
    "from sklearn.metrics import r2_score\n",
    "\n",
    "# fit the model\n",
    "\n",
    "model = LinearRegression()\n",
    "model.fit(X_train, y_train)\n",
    "\n",
    "# predict\n",
    "\n",
    "y_pred = model.predict(X_test)\n",
    "\n",
    "# Evaluate the Model Performance\n",
    "mse = mean_squared_error(y_test, y_pred)\n",
    "mae = mean_absolute_error(y_test,y_pred)\n",
    "r2 = r2_score(y_test, y_pred)\n",
    "n = len(y_train)\n",
    "p = len(features)\n",
    "adj_r2 = 1-(1-r2)*(n-1)/(n-p-1)\n",
    "\n",
    "print(f'MSE (test): {mse:.4f}')\n",
    "print(f'RMSE (test): {mse**0.5:.4f}')\n",
    "print(f'MAE (test): {mae:.4f}')\n",
    "print(f'R-squared is: {r2}')\n",
    "print(f'Adjusted R-squared is: {adj_r2}')\n"
   ]
  },
  {
   "attachments": {},
   "cell_type": "markdown",
   "metadata": {},
   "source": [
    "### Observations ...\n",
    "* this feature engineering looks to have improved the model very slightly\n",
    "* let's try some other models "
   ]
  },
  {
   "cell_type": "code",
   "execution_count": 85,
   "metadata": {},
   "outputs": [],
   "source": [
    "from keras.models import Sequential\n",
    "from keras.layers import Dense\n",
    "import tensorflow as tf\n",
    "\n",
    "def regressor(inp_dim):\n",
    "    \n",
    "    model = Sequential()\n",
    "    \n",
    "    model.add(Dense(20, input_dim=inp_dim, kernel_initializer='normal', activation='relu', kernel_regularizer= tf.keras.regularizers.l2(0.1)))\n",
    "    model.add(Dense(25, kernel_initializer='normal', activation='relu', kernel_regularizer= tf.keras.regularizers.l2(0.1)))\n",
    "    model.add(Dense(10, kernel_initializer='normal', activation='relu', kernel_regularizer= tf.keras.regularizers.l2(0.1)))\n",
    "    model.add(Dense(1, activation='relu', kernel_initializer='normal'))\n",
    "    \n",
    "    model.compile(loss='mean_squared_error', optimizer='adam')\n",
    "    \n",
    "    return model"
   ]
  },
  {
   "cell_type": "code",
   "execution_count": 86,
   "metadata": {},
   "outputs": [
    {
     "name": "stdout",
     "output_type": "stream",
     "text": [
      "Epoch 1/70\n",
      "36/36 [==============================] - 1s 9ms/step - loss: 7164.4985 - val_loss: 6591.0840\n",
      "Epoch 2/70\n",
      "36/36 [==============================] - 0s 2ms/step - loss: 6316.0713 - val_loss: 4353.8003\n",
      "Epoch 3/70\n",
      "36/36 [==============================] - 0s 2ms/step - loss: 1838.5071 - val_loss: 49.7704\n",
      "Epoch 4/70\n",
      "36/36 [==============================] - 0s 2ms/step - loss: 38.3981 - val_loss: 7.2254\n",
      "Epoch 5/70\n",
      "36/36 [==============================] - 0s 2ms/step - loss: 4.3614 - val_loss: 3.6647\n",
      "Epoch 6/70\n",
      "36/36 [==============================] - 0s 2ms/step - loss: 3.8304 - val_loss: 3.6177\n",
      "Epoch 7/70\n",
      "36/36 [==============================] - 0s 2ms/step - loss: 3.7261 - val_loss: 3.5369\n",
      "Epoch 8/70\n",
      "36/36 [==============================] - 0s 2ms/step - loss: 3.5764 - val_loss: 3.3862\n",
      "Epoch 9/70\n",
      "36/36 [==============================] - 0s 2ms/step - loss: 3.3014 - val_loss: 3.1743\n",
      "Epoch 10/70\n",
      "36/36 [==============================] - 0s 2ms/step - loss: 3.1027 - val_loss: 3.1356\n",
      "Epoch 11/70\n",
      "36/36 [==============================] - 0s 2ms/step - loss: 2.9505 - val_loss: 2.9361\n",
      "Epoch 12/70\n",
      "36/36 [==============================] - 0s 3ms/step - loss: 2.7864 - val_loss: 2.9461\n",
      "Epoch 13/70\n",
      "36/36 [==============================] - 0s 2ms/step - loss: 2.7154 - val_loss: 2.8537\n",
      "Epoch 14/70\n",
      "36/36 [==============================] - 0s 2ms/step - loss: 2.6505 - val_loss: 2.8551\n",
      "Epoch 15/70\n",
      "36/36 [==============================] - 0s 3ms/step - loss: 2.6513 - val_loss: 2.8632\n",
      "Epoch 16/70\n",
      "36/36 [==============================] - 0s 3ms/step - loss: 2.6536 - val_loss: 2.8422\n",
      "Epoch 17/70\n",
      "36/36 [==============================] - 0s 2ms/step - loss: 2.6134 - val_loss: 3.0222\n",
      "Epoch 18/70\n",
      "36/36 [==============================] - 0s 3ms/step - loss: 2.6520 - val_loss: 2.8369\n",
      "Epoch 19/70\n",
      "36/36 [==============================] - 0s 3ms/step - loss: 2.5890 - val_loss: 2.8497\n",
      "Epoch 20/70\n",
      "36/36 [==============================] - 0s 2ms/step - loss: 2.6091 - val_loss: 2.8715\n",
      "Epoch 21/70\n",
      "36/36 [==============================] - 0s 2ms/step - loss: 2.5843 - val_loss: 2.9053\n",
      "Epoch 22/70\n",
      "36/36 [==============================] - 0s 3ms/step - loss: 2.5996 - val_loss: 2.8858\n",
      "Epoch 23/70\n",
      "36/36 [==============================] - 0s 3ms/step - loss: 2.5784 - val_loss: 2.9417\n",
      "Epoch 24/70\n",
      "36/36 [==============================] - 0s 2ms/step - loss: 2.7247 - val_loss: 2.9671\n",
      "Epoch 25/70\n",
      "36/36 [==============================] - 0s 2ms/step - loss: 2.7171 - val_loss: 2.8248\n",
      "Epoch 26/70\n",
      "36/36 [==============================] - 0s 2ms/step - loss: 2.5991 - val_loss: 3.1060\n",
      "Epoch 27/70\n",
      "36/36 [==============================] - 0s 2ms/step - loss: 2.6115 - val_loss: 2.8446\n",
      "Epoch 28/70\n",
      "36/36 [==============================] - 0s 2ms/step - loss: 2.6197 - val_loss: 2.9702\n",
      "Epoch 29/70\n",
      "36/36 [==============================] - 0s 3ms/step - loss: 2.6032 - val_loss: 2.8300\n",
      "Epoch 30/70\n",
      "36/36 [==============================] - 0s 2ms/step - loss: 2.5908 - val_loss: 2.8163\n",
      "Epoch 31/70\n",
      "36/36 [==============================] - 0s 2ms/step - loss: 2.6169 - val_loss: 2.8294\n",
      "Epoch 32/70\n",
      "36/36 [==============================] - 0s 2ms/step - loss: 2.5576 - val_loss: 2.8095\n",
      "Epoch 33/70\n",
      "36/36 [==============================] - 0s 2ms/step - loss: 2.6219 - val_loss: 2.8132\n",
      "Epoch 34/70\n",
      "36/36 [==============================] - 0s 2ms/step - loss: 2.5982 - val_loss: 2.8133\n",
      "Epoch 35/70\n",
      "36/36 [==============================] - 0s 2ms/step - loss: 2.5965 - val_loss: 2.9359\n",
      "Epoch 36/70\n",
      "36/36 [==============================] - 0s 2ms/step - loss: 2.5774 - val_loss: 2.8509\n",
      "Epoch 37/70\n",
      "36/36 [==============================] - 0s 3ms/step - loss: 2.5620 - val_loss: 2.8160\n",
      "Epoch 38/70\n",
      "36/36 [==============================] - 0s 2ms/step - loss: 2.5723 - val_loss: 3.0939\n",
      "Epoch 39/70\n",
      "36/36 [==============================] - 0s 2ms/step - loss: 2.6178 - val_loss: 2.8873\n",
      "Epoch 40/70\n",
      "36/36 [==============================] - 0s 2ms/step - loss: 2.5740 - val_loss: 2.8253\n",
      "Epoch 41/70\n",
      "36/36 [==============================] - 0s 2ms/step - loss: 2.6178 - val_loss: 2.9076\n",
      "Epoch 42/70\n",
      "36/36 [==============================] - 0s 2ms/step - loss: 2.5906 - val_loss: 2.8441\n",
      "Epoch 43/70\n",
      "36/36 [==============================] - 0s 2ms/step - loss: 2.5699 - val_loss: 2.8009\n",
      "Epoch 44/70\n",
      "36/36 [==============================] - 0s 2ms/step - loss: 2.5324 - val_loss: 2.8692\n",
      "Epoch 45/70\n",
      "36/36 [==============================] - 0s 2ms/step - loss: 2.5413 - val_loss: 2.7981\n",
      "Epoch 46/70\n",
      "36/36 [==============================] - 0s 2ms/step - loss: 2.6149 - val_loss: 2.7913\n",
      "Epoch 47/70\n",
      "36/36 [==============================] - 0s 2ms/step - loss: 2.5828 - val_loss: 2.8138\n",
      "Epoch 48/70\n",
      "36/36 [==============================] - 0s 2ms/step - loss: 2.5395 - val_loss: 2.7832\n",
      "Epoch 49/70\n",
      "36/36 [==============================] - 0s 2ms/step - loss: 2.5705 - val_loss: 2.7839\n",
      "Epoch 50/70\n",
      "36/36 [==============================] - 0s 2ms/step - loss: 2.5392 - val_loss: 2.8897\n",
      "Epoch 51/70\n",
      "36/36 [==============================] - 0s 2ms/step - loss: 2.5378 - val_loss: 2.9962\n",
      "Epoch 52/70\n",
      "36/36 [==============================] - 0s 2ms/step - loss: 2.5670 - val_loss: 2.7817\n",
      "Epoch 53/70\n",
      "36/36 [==============================] - 0s 2ms/step - loss: 2.5285 - val_loss: 2.8070\n",
      "Epoch 54/70\n",
      "36/36 [==============================] - 0s 2ms/step - loss: 2.5672 - val_loss: 2.7992\n",
      "Epoch 55/70\n",
      "36/36 [==============================] - 0s 2ms/step - loss: 2.5297 - val_loss: 2.7806\n",
      "Epoch 56/70\n",
      "36/36 [==============================] - 0s 2ms/step - loss: 2.5187 - val_loss: 2.8475\n",
      "Epoch 57/70\n",
      "36/36 [==============================] - 0s 2ms/step - loss: 2.6038 - val_loss: 2.7837\n",
      "Epoch 58/70\n",
      "36/36 [==============================] - 0s 2ms/step - loss: 2.5596 - val_loss: 2.8385\n",
      "Epoch 59/70\n",
      "36/36 [==============================] - 0s 2ms/step - loss: 2.5221 - val_loss: 2.7703\n",
      "Epoch 60/70\n",
      "36/36 [==============================] - 0s 2ms/step - loss: 2.5074 - val_loss: 2.7792\n",
      "Epoch 61/70\n",
      "36/36 [==============================] - 0s 2ms/step - loss: 2.5217 - val_loss: 2.7738\n",
      "Epoch 62/70\n",
      "36/36 [==============================] - 0s 2ms/step - loss: 2.5376 - val_loss: 2.8042\n",
      "Epoch 63/70\n",
      "36/36 [==============================] - 0s 2ms/step - loss: 2.4958 - val_loss: 2.7744\n",
      "Epoch 64/70\n",
      "36/36 [==============================] - 0s 2ms/step - loss: 2.4952 - val_loss: 2.8694\n",
      "Epoch 65/70\n",
      "36/36 [==============================] - 0s 2ms/step - loss: 2.5165 - val_loss: 2.7702\n",
      "Epoch 66/70\n",
      "36/36 [==============================] - 0s 2ms/step - loss: 2.5484 - val_loss: 2.7557\n",
      "Epoch 67/70\n",
      "36/36 [==============================] - 0s 2ms/step - loss: 2.6141 - val_loss: 2.7946\n",
      "Epoch 68/70\n",
      "36/36 [==============================] - 0s 2ms/step - loss: 2.7915 - val_loss: 2.7533\n",
      "Epoch 69/70\n",
      "36/36 [==============================] - 0s 2ms/step - loss: 2.4889 - val_loss: 2.7854\n",
      "Epoch 70/70\n",
      "36/36 [==============================] - 0s 2ms/step - loss: 2.5023 - val_loss: 2.7811\n"
     ]
    },
    {
     "data": {
      "text/plain": [
       "<keras.callbacks.History at 0x25f989c46a0>"
      ]
     },
     "execution_count": 86,
     "metadata": {},
     "output_type": "execute_result"
    }
   ],
   "source": [
    "model_2 = regressor(inp_dim=8)\n",
    "model_2.fit(X_train, y_train, epochs=70, validation_split=0.2)"
   ]
  },
  {
   "cell_type": "code",
   "execution_count": 87,
   "metadata": {},
   "outputs": [
    {
     "name": "stdout",
     "output_type": "stream",
     "text": [
      "12/12 [==============================] - 0s 742us/step\n"
     ]
    }
   ],
   "source": [
    "y_pred_2 = model_2.predict(X_test)"
   ]
  },
  {
   "cell_type": "code",
   "execution_count": 88,
   "metadata": {},
   "outputs": [
    {
     "name": "stdout",
     "output_type": "stream",
     "text": [
      "MSE (test): 2.0953\n",
      "RMSE (test): 1.4475\n",
      "MAE (test): 1.0367\n",
      "R-squared is: 0.9973707098257105\n",
      "Adjusted R-squared is: 0.9973556745709612\n"
     ]
    }
   ],
   "source": [
    "\n",
    "# Evaluate the Model Performance\n",
    "mse = mean_squared_error(y_test, y_pred_2)\n",
    "mae = mean_absolute_error(y_test,y_pred_2)\n",
    "r2 = r2_score(y_test, y_pred_2)\n",
    "n = len(y_train)\n",
    "p = len(features)\n",
    "adj_r2 = 1-(1-r2)*(n-1)/(n-p-1)\n",
    "\n",
    "print(f'MSE (test): {mse:.4f}')\n",
    "print(f'RMSE (test): {mse**0.5:.4f}')\n",
    "print(f'MAE (test): {mae:.4f}')\n",
    "print(f'R-squared is: {r2}')\n",
    "print(f'Adjusted R-squared is: {adj_r2}')"
   ]
  },
  {
   "cell_type": "code",
   "execution_count": 89,
   "metadata": {},
   "outputs": [
    {
     "name": "stdout",
     "output_type": "stream",
     "text": [
      "MSE (test): 2.1297\n",
      "RMSE (test): 1.4594\n",
      "MAE (test): 1.0573\n",
      "R-squared is: 0.997327449473813\n"
     ]
    }
   ],
   "source": [
    "import xgboost as xgb\n",
    "from sklearn.metrics import mean_squared_error\n",
    "from sklearn.metrics import mean_absolute_error\n",
    "from sklearn.metrics import r2_score\n",
    "\n",
    "\n",
    "xg_reg = xgb.XGBRegressor(learning_rate = 0.1, max_depth = 4, n_estimators = 150)\n",
    "xg_reg.fit(X_train, y_train)\n",
    "y_pred = xg_reg.predict(X_test)\n",
    "\n",
    "\n",
    "mse = mean_squared_error(y_test, y_pred)\n",
    "mae = mean_absolute_error(y_test,y_pred)\n",
    "r2 = r2_score(y_test, y_pred)\n",
    "\n",
    "print(f'MSE (test): {mse:.4f}')\n",
    "print(f'RMSE (test): {mse**0.5:.4f}')\n",
    "print(f'MAE (test): {mae:.4f}')\n",
    "print(f'R-squared is: {r2}')"
   ]
  },
  {
   "cell_type": "code",
   "execution_count": 90,
   "metadata": {},
   "outputs": [],
   "source": [
    "# Write your code here\n",
    "\n",
    "# Write your code here\n",
    "\n",
    "# Define a function that automates the search for optimal hyperparameter values\n",
    "def hyper_tuning(X_train, y_train, X_test, y_test, est_list, depth_list, rate_list):\n",
    "    data = []\n",
    "    for depth in depth_list:\n",
    "        for estimate in est_list:\n",
    "            for rate in rate_list:\n",
    "                inner_dict = {}\n",
    "                inner_dict['depth'] = depth\n",
    "                xg_reg = xgb.XGBRegressor(learning_rate = rate, max_depth = depth, n_estimators = estimate)\n",
    "                xg_reg.fit(X_train, y_train)\n",
    "                y_pred = xg_reg.predict(X_test)\n",
    "                \n",
    "                mse = mean_squared_error(y_test, y_pred)\n",
    "                rmse = mse**0.5\n",
    "                mae = mean_absolute_error(y_test,y_pred)\n",
    "                r2 = r2_score(y_test, y_pred)\n",
    "                \n",
    "                inner_dict['n_estimate'] = estimate\n",
    "                inner_dict['rate'] = rate\n",
    "                inner_dict['mse'] = mse\n",
    "                inner_dict['rmse'] = rmse\n",
    "                inner_dict['r2'] = r2\n",
    "                data.append(inner_dict)\n",
    "            \n",
    "    summary_df = pd.DataFrame(data)\n",
    "    summary_df.sort_values('rmse', inplace = True)\n",
    "    return summary_df"
   ]
  },
  {
   "cell_type": "code",
   "execution_count": 91,
   "metadata": {},
   "outputs": [
    {
     "data": {
      "text/html": [
       "<div>\n",
       "<style scoped>\n",
       "    .dataframe tbody tr th:only-of-type {\n",
       "        vertical-align: middle;\n",
       "    }\n",
       "\n",
       "    .dataframe tbody tr th {\n",
       "        vertical-align: top;\n",
       "    }\n",
       "\n",
       "    .dataframe thead th {\n",
       "        text-align: right;\n",
       "    }\n",
       "</style>\n",
       "<table border=\"1\" class=\"dataframe\">\n",
       "  <thead>\n",
       "    <tr style=\"text-align: right;\">\n",
       "      <th></th>\n",
       "      <th>depth</th>\n",
       "      <th>n_estimate</th>\n",
       "      <th>rate</th>\n",
       "      <th>mse</th>\n",
       "      <th>rmse</th>\n",
       "      <th>r2</th>\n",
       "    </tr>\n",
       "  </thead>\n",
       "  <tbody>\n",
       "    <tr>\n",
       "      <th>33</th>\n",
       "      <td>3</td>\n",
       "      <td>100</td>\n",
       "      <td>0.1</td>\n",
       "      <td>2.029218</td>\n",
       "      <td>1.424506</td>\n",
       "      <td>0.997454</td>\n",
       "    </tr>\n",
       "    <tr>\n",
       "      <th>30</th>\n",
       "      <td>3</td>\n",
       "      <td>70</td>\n",
       "      <td>0.1</td>\n",
       "      <td>2.030915</td>\n",
       "      <td>1.425102</td>\n",
       "      <td>0.997451</td>\n",
       "    </tr>\n",
       "    <tr>\n",
       "      <th>32</th>\n",
       "      <td>3</td>\n",
       "      <td>90</td>\n",
       "      <td>0.1</td>\n",
       "      <td>2.030949</td>\n",
       "      <td>1.425114</td>\n",
       "      <td>0.997451</td>\n",
       "    </tr>\n",
       "    <tr>\n",
       "      <th>31</th>\n",
       "      <td>3</td>\n",
       "      <td>80</td>\n",
       "      <td>0.1</td>\n",
       "      <td>2.031082</td>\n",
       "      <td>1.425160</td>\n",
       "      <td>0.997451</td>\n",
       "    </tr>\n",
       "    <tr>\n",
       "      <th>34</th>\n",
       "      <td>3</td>\n",
       "      <td>110</td>\n",
       "      <td>0.1</td>\n",
       "      <td>2.032808</td>\n",
       "      <td>1.425766</td>\n",
       "      <td>0.997449</td>\n",
       "    </tr>\n",
       "  </tbody>\n",
       "</table>\n",
       "</div>"
      ],
      "text/plain": [
       "    depth  n_estimate  rate       mse      rmse        r2\n",
       "33      3         100   0.1  2.029218  1.424506  0.997454\n",
       "30      3          70   0.1  2.030915  1.425102  0.997451\n",
       "32      3          90   0.1  2.030949  1.425114  0.997451\n",
       "31      3          80   0.1  2.031082  1.425160  0.997451\n",
       "34      3         110   0.1  2.032808  1.425766  0.997449"
      ]
     },
     "execution_count": 91,
     "metadata": {},
     "output_type": "execute_result"
    }
   ],
   "source": [
    "# Call the function and pass values for the expected arguments\n",
    "depth_list = [1,2,3,4,5,6,7,8,9,10]\n",
    "est_list = [30,40,50,60,70,80,90,100,110,125,150,200,250]\n",
    "rate_list = [ 0.1]\n",
    "\n",
    "hyper_tuning(X_train, y_train, X_test, y_test, est_list, depth_list, rate_list).head()"
   ]
  },
  {
   "attachments": {},
   "cell_type": "markdown",
   "metadata": {},
   "source": [
    "### Conclusion\n",
    "* the model with the lowest RMSE was the linear regression after feature engineering\n",
    "* all of the models have adj r2 values around .997"
   ]
  },
  {
   "cell_type": "markdown",
   "metadata": {},
   "source": []
  }
 ],
 "metadata": {
  "kernelspec": {
   "display_name": "base",
   "language": "python",
   "name": "python3"
  },
  "language_info": {
   "codemirror_mode": {
    "name": "ipython",
    "version": 3
   },
   "file_extension": ".py",
   "mimetype": "text/x-python",
   "name": "python",
   "nbconvert_exporter": "python",
   "pygments_lexer": "ipython3",
   "version": "3.9.12"
  },
  "orig_nbformat": 4,
  "vscode": {
   "interpreter": {
    "hash": "61b0d564970b34ea112e43470dfafd9c97d2ccb51c134d9140c5036a9f978022"
   }
  }
 },
 "nbformat": 4,
 "nbformat_minor": 2
}
